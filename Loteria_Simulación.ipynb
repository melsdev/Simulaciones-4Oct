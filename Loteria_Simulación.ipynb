{
 "cells": [
  {
   "cell_type": "code",
   "execution_count": 1,
   "id": "44bc0998",
   "metadata": {},
   "outputs": [],
   "source": [
    "import random"
   ]
  },
  {
   "cell_type": "code",
   "execution_count": 3,
   "id": "b9fd5104",
   "metadata": {},
   "outputs": [
    {
     "name": "stdout",
     "output_type": "stream",
     "text": [
      "Ganancia Total: 11000\n",
      "Utilidad: 0\n",
      "El precio mínimo que se debe cobrar por boleto es: 9000\n"
     ]
    }
   ],
   "source": [
    "\n",
    "GTotal = 0  \n",
    "Utilidad = 0  \n",
    "precio_minimo_boleto = 9000  # Precio mínimo en función del valor esperado\n",
    "\n",
    "# Ciclo de 3 tiempos\n",
    "for _ in range(3):\n",
    "    \n",
    "    aleatorio = random.uniform(0, 1)\n",
    "\n",
    "    # Si el número es mayor que 0.5, ganamos 5000; sino, 1000\n",
    "    if aleatorio > 0.5:\n",
    "        Ganancia = 5000\n",
    "    else:\n",
    "        Ganancia = 1000\n",
    "    \n",
    "    \n",
    "    GTotal += Ganancia\n",
    "\n",
    "\n",
    "if GTotal == 3000:\n",
    "    Utilidad = 1000\n",
    "elif GTotal == 15000:\n",
    "    Utilidad = 5000\n",
    "else:\n",
    "    Utilidad = 0\n",
    "\n",
    "# Resultados\n",
    "print(\"Ganancia Total:\", GTotal)\n",
    "print(\"Utilidad:\", Utilidad)\n",
    "print(\"El precio mínimo que se debe cobrar por boleto es:\", precio_minimo_boleto)"
   ]
  },
  {
   "cell_type": "code",
   "execution_count": 9,
   "id": "411ad00c",
   "metadata": {},
   "outputs": [
    {
     "name": "stdout",
     "output_type": "stream",
     "text": [
      "Día 1: El viaje duró 4.89 horas de ida y 4.20 horas de regreso.\n",
      "Día 2: El viaje duró 5.43 horas de ida y 5.30 horas de regreso.\n",
      "Día 3: No se realizó el viaje.\n",
      "Día 4: El viaje duró 4.64 horas de ida y 5.16 horas de regreso.\n",
      "Día 5: El viaje duró 4.49 horas de ida y 4.12 horas de regreso.\n",
      "Día 6: El viaje duró 5.62 horas de ida y 4.95 horas de regreso.\n",
      "Día 7: El viaje duró 5.79 horas de ida y 5.51 horas de regreso.\n",
      "Día 8: El viaje duró 4.12 horas de ida y 5.99 horas de regreso.\n",
      "Día 9: El viaje duró 4.10 horas de ida y 4.75 horas de regreso.\n",
      "Día 10: El viaje duró 4.32 horas de ida y 4.35 horas de regreso.\n",
      "\n",
      "Promedio de horas por viaje realizado: 9.75 horas.\n"
     ]
    }
   ],
   "source": [
    "# Probabilidades de realizar o no el viaje\n",
    "prob_viajar = 0.85  # Probabilidad de que el viaje se realice\n",
    "prob_no_viajar = 0.15  # Probabilidad de que no se realice el viaje\n",
    "\n",
    "# Función para simular la duración del viaje A-B y regreso en horas\n",
    "def simular_viaje():\n",
    "    # Simular si el viaje se realiza\n",
    "    if random.uniform(0, 1) <= prob_viajar:\n",
    "        duracion_ida = 4 + (6 - 4) * random.uniform(0, 1)  # Ida\n",
    "        duracion_regreso = 4 + (6 - 4) * random.uniform(0, 1)  # Regreso\n",
    "        return duracion_ida, duracion_regreso\n",
    "    else:\n",
    "        # Si no viaja, la duración es 0\n",
    "        return 0, 0\n",
    "\n",
    "# Simulación para 10 días\n",
    "viajes = []\n",
    "total_horas_viaje = 0  \n",
    "num_viajes = 0  \n",
    "\n",
    "for i in range(10):\n",
    "    duracion_ida, duracion_regreso = simular_viaje()\n",
    "    viajes.append((duracion_ida, duracion_regreso))\n",
    "    \n",
    "    # Solo sumamos si el viaje fue realizado\n",
    "    if duracion_ida > 0 or duracion_regreso > 0:\n",
    "        total_horas_viaje += duracion_ida + duracion_regreso\n",
    "        num_viajes += 1\n",
    "\n",
    "# Resultados de los viajes\n",
    "for i, (duracion_ida, duracion_regreso) in enumerate(viajes):\n",
    "    if duracion_ida > 0 or duracion_regreso > 0:\n",
    "        print(f\"Día {i+1}: El viaje duró {duracion_ida:.2f} horas de ida y {duracion_regreso:.2f} horas de regreso.\")\n",
    "    else:\n",
    "        print(f\"Día {i+1}: No se realizó el viaje.\")\n",
    "\n",
    "\n",
    "if num_viajes > 0:\n",
    "    promedio_horas_viaje = total_horas_viaje / num_viajes\n",
    "    print(f\"\\nPromedio de horas por viaje realizado: {promedio_horas_viaje:.2f} horas.\")\n",
    "else:\n",
    "    print(\"\\nNo se realizaron viajes, no hay promedio de horas.\")"
   ]
  },
  {
   "cell_type": "code",
   "execution_count": null,
   "id": "ef0c9147",
   "metadata": {},
   "outputs": [],
   "source": []
  }
 ],
 "metadata": {
  "kernelspec": {
   "display_name": "Python 3 (ipykernel)",
   "language": "python",
   "name": "python3"
  },
  "language_info": {
   "codemirror_mode": {
    "name": "ipython",
    "version": 3
   },
   "file_extension": ".py",
   "mimetype": "text/x-python",
   "name": "python",
   "nbconvert_exporter": "python",
   "pygments_lexer": "ipython3",
   "version": "3.11.5"
  }
 },
 "nbformat": 4,
 "nbformat_minor": 5
}
